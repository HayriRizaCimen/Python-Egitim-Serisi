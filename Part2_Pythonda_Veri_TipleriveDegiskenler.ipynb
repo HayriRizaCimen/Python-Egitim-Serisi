{
 "cells": [
  {
   "cell_type": "code",
   "execution_count": 1,
   "metadata": {},
   "outputs": [],
   "source": [
    "a = \"Merhaba!\"\t#str\t\n",
    "b = 57\t#int\t\n",
    "c = 57.5\t#float\t\n",
    "d = 57j\t#complex\t\n",
    "e = [\"Erkan\", \"Gürhan\", \"Fatma\"]\t#list\t\n",
    "f = (\"Erkan\", \"Gürhan\", \"Fatma\")\t#tuple\t\n",
    "g = range(57)\t#range\t\n",
    "h = {\"adı\" : \"Ramazan\", \"yaşı\" : 65}\t#dict\t\n",
    "i = {\"Erkan\", \"Gürhan\", \"Fatma\"}\t#set\t\n",
    "j = frozenset({\"Erkan\", \"Gürhan\", \"Fatma\"}) #frozenset\t\n",
    "k = True\t#bool\t\n",
    "l = b\"Merhaba\"\t#bytes\t\n",
    "m = bytearray(2)\t#bytearray\t\n",
    "n = memoryview(bytes(2))\t#memoryview"
   ]
  },
  {
   "cell_type": "code",
   "execution_count": 29,
   "metadata": {},
   "outputs": [],
   "source": [
    "x = str(\"Merhaba\")\n",
    "x = int(890)\t\n",
    "x = float(98.2)\n",
    "x = complex(1j)\n",
    "x = list((\"6A\", \"6B\", \"6C\"))\n",
    "x = tuple((\"6A\", \"6B\", \"6C\"))\n",
    "x = range(9)\n",
    "x = dict(adı=\"Umut\", yaşı=47)\n",
    "x = set((\"Basketbol\", \"Voleybol\", \"Futbol\"))\n",
    "x = frozenset((\"Basketbol\", \"Voleybol\", \"Futbol\"))\n",
    "x = bool(9)\n",
    "x = bytes(9)\n",
    "x = bytearray(9)\n",
    "x = memoryview(bytes(9))"
   ]
  },
  {
   "cell_type": "code",
   "execution_count": 30,
   "metadata": {},
   "outputs": [],
   "source": [
    "x = 57    # int tanımlanır\n",
    "y = 98.2  # float tanımlanır\n",
    "z = 57j   # complex tanımlanır"
   ]
  },
  {
   "cell_type": "code",
   "execution_count": 31,
   "metadata": {},
   "outputs": [],
   "source": [
    "x = 10\n",
    "y = 965324569877445123658557562314552235\n",
    "z = -8596231456"
   ]
  },
  {
   "cell_type": "code",
   "execution_count": null,
   "metadata": {},
   "outputs": [],
   "source": []
  },
  {
   "cell_type": "code",
   "execution_count": 30,
   "metadata": {},
   "outputs": [],
   "source": [
    "x = 57    # int tanımlanır\n",
    "y = 98.2  # float tanımlanır\n",
    "z = 57j   # complex tanımlanır"
   ]
  },
  {
   "cell_type": "code",
   "execution_count": 31,
   "metadata": {
    "jupyter": {
     "source_hidden": true
    }
   },
   "outputs": [],
   "source": [
    "x = 10\n",
    "y = 965324569877445123658557562314552235\n",
    "z = -8596231456"
   ]
  },
  {
   "cell_type": "code",
   "execution_count": 32,
   "metadata": {},
   "outputs": [],
   "source": [
    "x = 0.10\n",
    "y = 100.0\n",
    "z = -57.3435\n",
    "a = 57e2\n",
    "b = 158E5\n",
    "c = -1253.4e50"
   ]
  },
  {
   "cell_type": "code",
   "execution_count": null,
   "metadata": {},
   "outputs": [],
   "source": [
    "x = 3+5j\n",
    "y = 5j\n",
    "z = -5j"
   ]
  },
  {
   "cell_type": "code",
   "execution_count": 36,
   "metadata": {},
   "outputs": [
    {
     "name": "stdout",
     "output_type": "stream",
     "text": [
      "1.0\n",
      "2\n",
      "<class 'float'>\n",
      "<class 'int'>\n"
     ]
    }
   ],
   "source": [
    "x = 1 # int\n",
    "y = 2.8 # float\n",
    "\n",
    "#x değerini float yapalım\n",
    "a = float(x)\n",
    "\n",
    "#y değerini integer yapalım\n",
    "b = int(y)\n",
    "\n",
    "print(a)\n",
    "print(b)\n",
    "\n",
    "print(type(a))\n",
    "print(type(b))"
   ]
  },
  {
   "cell_type": "code",
   "execution_count": 39,
   "metadata": {},
   "outputs": [
    {
     "name": "stdout",
     "output_type": "stream",
     "text": [
      "s1\n"
     ]
    }
   ],
   "source": [
    "'''Lorem ipsum dolor sit amet,\n",
    "consectetur adipiscing elit,\n",
    "sed do eiusmod tempor incididunt\n",
    "ut labore et dolore magna aliqua.'''\n",
    "\n",
    "#int değere dönüşüm yaparken\n",
    "x = int(1)   # x in yeni değeri 1 olur\n",
    "y = int(2.8) # y nin yeni değeri 2 olur\n",
    "z = int(\"3\") # z nin yeni değeri 3 olur (numerik)\n",
    "\n",
    "#float değere dönüşüm yaparken\n",
    "x = float(1)     # x in yeni değeri 1.0\n",
    "y = float(2.8)   # y nin yeni değeri 2.8\n",
    "z = float(\"3\")   # z nin yeni değeri 3.0\n",
    "t = float(\"4.2\") # w nin yeni değeri 4.2\n",
    "\n",
    "#string değere dönüşüm yaparken\n",
    "x = str(\"s1\") # x in yeni değeri 's1'\n",
    "y = str(2)    # y nin yeni değeri '2'\n",
    "z = str(3.0)  # z nin yeni değeri '3.0'\n",
    "\n",
    "print(x)"
   ]
  },
  {
   "cell_type": "code",
   "execution_count": 40,
   "metadata": {},
   "outputs": [
    {
     "name": "stdout",
     "output_type": "stream",
     "text": [
      "Merhaba\n"
     ]
    }
   ],
   "source": [
    "a = \"Merhaba\"\n",
    "print(a)"
   ]
  },
  {
   "cell_type": "code",
   "execution_count": 42,
   "metadata": {},
   "outputs": [
    {
     "name": "stdout",
     "output_type": "stream",
     "text": [
      "Merhaba,\n",
      "bugün seninle görüşmem gerekiyor,\n",
      "projemiz hakkında,\n",
      "beni acil arayabilir misin?\n"
     ]
    }
   ],
   "source": [
    "a = '''Merhaba,\n",
    "bugün seninle görüşmem gerekiyor,\n",
    "projemiz hakkında,\n",
    "beni acil arayabilir misin?'''\n",
    "print(a)"
   ]
  },
  {
   "cell_type": "code",
   "execution_count": 43,
   "metadata": {},
   "outputs": [
    {
     "name": "stdout",
     "output_type": "stream",
     "text": [
      "e\n"
     ]
    }
   ],
   "source": [
    "#dizi değişenlerin ilk index inin 0 olduğunu hatırlayalım\n",
    "a = \"Merhaba, bugün hava nasıl?\"\n",
    "print(a[1])"
   ]
  },
  {
   "cell_type": "code",
   "execution_count": 46,
   "metadata": {},
   "outputs": [
    {
     "name": "stdout",
     "output_type": "stream",
     "text": [
      "bugün\n"
     ]
    }
   ],
   "source": [
    "# bugün sözcüğünü çekmek için \n",
    "# imlecin bulunduğu konuma dikkat\n",
    "b = \"Merhaba, bugün hava nasıl?\"\n",
    "print(b[9:14])"
   ]
  },
  {
   "cell_type": "code",
   "execution_count": 47,
   "metadata": {},
   "outputs": [
    {
     "name": "stdout",
     "output_type": "stream",
     "text": [
      "nasıl\n"
     ]
    }
   ],
   "source": [
    "#negatif indexleme ile nasıl ı çekelim\n",
    "# bu sefer sondan saymaya başlayın, 1'den başlayarak\n",
    "b = \"Merhaba, bugün hava nasıl?\"\n",
    "print(b[-6:-1])"
   ]
  },
  {
   "cell_type": "code",
   "execution_count": 48,
   "metadata": {},
   "outputs": [
    {
     "name": "stdout",
     "output_type": "stream",
     "text": [
      "26\n"
     ]
    }
   ],
   "source": [
    "# string değerin kaç karakter uzunluğunda olduğunu bul\n",
    "b = \"Merhaba, bugün hava nasıl?\"\n",
    "print(len(b))"
   ]
  },
  {
   "cell_type": "code",
   "execution_count": null,
   "metadata": {},
   "outputs": [],
   "source": []
  },
  {
   "cell_type": "code",
   "execution_count": 1,
   "metadata": {},
   "outputs": [
    {
     "name": "stdout",
     "output_type": "stream",
     "text": [
      "False\n",
      "False\n",
      "True\n",
      "True\n",
      "True\n"
     ]
    }
   ],
   "source": [
    "print(25 > 52)\n",
    "print(25 == 52)\n",
    "print(25 < 52)\n",
    "\n",
    "# bir değerin string mi numerik miolduğunu bool() ile değerlendirebilirsiniz\n",
    "print(bool(\"Merhaba!\"))\n",
    "print(bool(57))"
   ]
  },
  {
   "cell_type": "code",
   "execution_count": null,
   "metadata": {},
   "outputs": [],
   "source": []
  },
  {
   "cell_type": "code",
   "execution_count": 2,
   "metadata": {},
   "outputs": [
    {
     "data": {
      "text/plain": [
       "False"
      ]
     },
     "execution_count": 2,
     "metadata": {},
     "output_type": "execute_result"
    }
   ],
   "source": [
    "# aşağıdaki değerler false döndürür\n",
    "bool(False)\n",
    "bool(None)\n",
    "bool(0)\n",
    "bool(\"\")\n",
    "bool(())\n",
    "bool([])\n",
    "bool({})"
   ]
  },
  {
   "cell_type": "code",
   "execution_count": null,
   "metadata": {},
   "outputs": [],
   "source": []
  },
  {
   "cell_type": "code",
   "execution_count": 3,
   "metadata": {},
   "outputs": [
    {
     "name": "stdout",
     "output_type": "stream",
     "text": [
      "True\n",
      "Bağlantı var!\n",
      "True\n",
      "False\n"
     ]
    }
   ],
   "source": [
    "# fonksiyonum adında True değer döndüren bir fonksiyon\n",
    "def connect() :\n",
    "  return True\n",
    "\n",
    "# çıktı değerini yazdıralım\n",
    "print(connect())\n",
    "\n",
    "# çıktı değerini karar yapısına sokalım\n",
    "if connect():\n",
    "  print(\"Bağlantı var!\")\n",
    "else:\n",
    "  print(\"Bağlantı yok!\")\n",
    "\n",
    "# bir değişkenin tipini isinstance() ile sorgulayalım\n",
    "x = 57\n",
    "print(isinstance(x, int))\n",
    "print(isinstance(x, str))"
   ]
  },
  {
   "cell_type": "code",
   "execution_count": null,
   "metadata": {},
   "outputs": [],
   "source": []
  }
 ],
 "metadata": {
  "kernelspec": {
   "display_name": "Python 3",
   "language": "python",
   "name": "python3"
  },
  "language_info": {
   "codemirror_mode": {
    "name": "ipython",
    "version": 3
   },
   "file_extension": ".py",
   "mimetype": "text/x-python",
   "name": "python",
   "nbconvert_exporter": "python",
   "pygments_lexer": "ipython3",
   "version": "3.7.6"
  }
 },
 "nbformat": 4,
 "nbformat_minor": 4
}
