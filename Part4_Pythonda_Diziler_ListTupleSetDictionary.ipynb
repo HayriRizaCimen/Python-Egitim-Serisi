{
 "cells": [
  {
   "cell_type": "code",
   "execution_count": 20,
   "metadata": {},
   "outputs": [
    {
     "name": "stdout",
     "output_type": "stream",
     "text": [
      "Öğrenci 49.04 geçme notu ile Başarısız!\n"
     ]
    }
   ],
   "source": [
    "# vizenin %40'ı finalin %60'ı geçme notunu belirliyor\n",
    "# geçme notu 50\n",
    "# ödev notu finali %10 etkiliyor\n",
    "# aşağıda vize sınavı, final sınavı, ödev notu var\n",
    "# bu notlarla öğrenci geçer mi?\n",
    "\n",
    "vize_s=50\n",
    "final_s=46\n",
    "ödev=70 \n",
    "\n",
    "gecme_notu=(vize_s*0.40)+(final_s*0.90+ödev*0.10)*0.60\n",
    "\n",
    "if gecme_notu >= 50:\n",
    "  sonuc=\"Öğrenci {:.2f} geçme notu ile Başarılı!\"\n",
    "else:\n",
    "  sonuc=\"Öğrenci {:.2f} geçme notu ile Başarısız!\"\n",
    "print(sonuc.format(gecme_notu))"
   ]
  },
  {
   "cell_type": "code",
   "execution_count": 21,
   "metadata": {},
   "outputs": [
    {
     "name": "stdout",
     "output_type": "stream",
     "text": [
      "Öğrenci dersten kaldı!\n"
     ]
    }
   ],
   "source": [
    "# geçme notu 50 nin altında\n",
    "# devamsızlığı olmayan öğrenci için\n",
    "# dersten geçme durumunu değerlendirelim \n",
    "\n",
    "gecme_notu=49.04\n",
    "devam_durumu=1\n",
    "\n",
    "if gecme_notu>=50 and devam_durumu==1:\n",
    "  print(\"Öğrenci dersten geçti!\")\n",
    "elif gecme_notu>=50 or devam_durumu==1:\n",
    "  print(\"Öğrenci dersten kaldı!\")"
   ]
  },
  {
   "cell_type": "code",
   "execution_count": 22,
   "metadata": {},
   "outputs": [
    {
     "name": "stdout",
     "output_type": "stream",
     "text": [
      "True\n",
      "True\n",
      "True\n"
     ]
    }
   ],
   "source": [
    "x = [\"elma\", \"armut\"]\n",
    "y = [\"elma\", \"armut\"]\n",
    "z = x\n",
    "\n",
    "print(x is z)\n",
    "# True, x ile z aynı nesne\n",
    "\n",
    "print(x is not y)\n",
    "# True, x ile y aynı nesne değil, sadece içerikleri aynı\n",
    "\n",
    "print(x == y)\n",
    "# True, x ile y birbirine eşittir"
   ]
  },
  {
   "cell_type": "code",
   "execution_count": 33,
   "metadata": {
    "jupyter": {
     "source_hidden": true
    }
   },
   "outputs": [
    {
     "name": "stdout",
     "output_type": "stream",
     "text": [
      "çilek yok\n",
      "kivi yok\n",
      "armut var\n"
     ]
    }
   ],
   "source": [
    "x = [\"elma\", \"armut\"]\n",
    "y = [\"çilek\"]\n",
    "z = [\"kivi\", \"armut\"]\n",
    "\n",
    "# x nesnesinin için çilek var mı\n",
    "if y[0] not in x:\n",
    "  print (y[0] + \" yok\")\n",
    "else:\n",
    "  print (y[0] + \" var\")\n",
    "\n",
    "# x nesnesinin için kivi var mı\n",
    "if z[0] in x:\n",
    "  print (z[0] + \" var\")\n",
    "else:\n",
    "  print (z[0] + \" yok\")\n",
    "\n",
    "# x nesnesinin için armut var mı\n",
    "if z[1] not in x:\n",
    "  print (z[1] + \" yok\")\n",
    "else:\n",
    "  print (z[1] + \" var\")"
   ]
  },
  {
   "cell_type": "code",
   "execution_count": 35,
   "metadata": {},
   "outputs": [
    {
     "name": "stdout",
     "output_type": "stream",
     "text": [
      "['çay', 'yumurta', 'peynir', 'zeytin', 'reçel']\n",
      "peynir\n",
      "zeytin\n",
      "['yumurta', 'peynir', 'zeytin']\n",
      "['çay', 'yumurta', 'peynir', 'zeytin']\n",
      "['yumurta', 'peynir', 'zeytin', 'reçel']\n"
     ]
    }
   ],
   "source": [
    "# kahvaltı listesi oluşturalım\n",
    "kahvaltı_liste = [\"çay\", \"yumurta\", \"peynir\", \"zeytin\", \"reçel\"]\n",
    "print(kahvaltı_liste)\n",
    "\n",
    "# listenin 3. elemanı nedir\n",
    "print(kahvaltı_liste[2])\n",
    "\n",
    "# listenin sondan ikinci elemanı nedir\n",
    "print(kahvaltı_liste[-2])\n",
    "\n",
    "# listedeki 1.,2.,3. elemanları listele \n",
    "print(kahvaltı_liste[1:4])\n",
    "\n",
    "# aralıkta ilk indexi belirtmezsen nolur\n",
    "print(kahvaltı_liste[:4])\n",
    "\n",
    "# aralıkta son indexi belirtmezsen nolur\n",
    "print(kahvaltı_liste[1:])"
   ]
  },
  {
   "cell_type": "code",
   "execution_count": 37,
   "metadata": {},
   "outputs": [
    {
     "name": "stdout",
     "output_type": "stream",
     "text": [
      "['yumurta', 'peynir', 'zeytin']\n",
      "['çay', 'yumurta', 'peynir', 'zeytin', 'bal']\n",
      "çay\n",
      "yumurta\n",
      "peynir\n",
      "zeytin\n",
      "bal\n"
     ]
    }
   ],
   "source": [
    "# kahvaltı listesi\n",
    "kahvaltı_liste = [\"çay\", \"yumurta\", \"peynir\", \"zeytin\", \"reçel\"]\n",
    "\n",
    "# listede -4:-1 aralığı neyi ifade eder\n",
    "print(kahvaltı_liste[-4:-1])\n",
    "\n",
    "# listedeki reçel i bal ile değiştirelim\n",
    "kahvaltı_liste[4]=\"bal\"\n",
    "print(kahvaltı_liste)\n",
    "\n",
    "# listedeki tüm elemanları yazdıralım\n",
    "for e in kahvaltı_liste:\n",
    "  print (e)"
   ]
  },
  {
   "cell_type": "code",
   "execution_count": null,
   "metadata": {},
   "outputs": [],
   "source": []
  },
  {
   "cell_type": "code",
   "execution_count": 41,
   "metadata": {},
   "outputs": [
    {
     "name": "stdout",
     "output_type": "stream",
     "text": [
      "5\n",
      "Listede kaşar yok!\n",
      "['çay', 'yumurta', 'peynir', 'zeytin', 'reçel', 'kaşar']\n",
      "['çay', 'yumurta', 'domates', 'peynir', 'zeytin', 'reçel', 'kaşar']\n"
     ]
    }
   ],
   "source": [
    "# kahvaltı listesi\n",
    "kahvaltı_liste = [\"çay\", \"yumurta\", \"peynir\", \"zeytin\", \"reçel\"]\n",
    "\n",
    "# listede kaç eleman var\n",
    "print(len(kahvaltı_liste))\n",
    "\n",
    "# listede kaşar var mı\n",
    "if \"kaşar\" in kahvaltı_liste:\n",
    "    print(\"Listede kaşar var!\")\n",
    "else:\n",
    "    print(\"Listede kaşar yok!\")\n",
    "\n",
    "# listenin sonuna kaşar ı ekleyelim\n",
    "kahvaltı_liste.append(\"kaşar\")\n",
    "print(kahvaltı_liste)\n",
    "\n",
    "# domates i 3. sıraya ekleyelim\n",
    "kahvaltı_liste.insert(2,\"domates\")\n",
    "print(kahvaltı_liste)    "
   ]
  },
  {
   "cell_type": "code",
   "execution_count": 50,
   "metadata": {},
   "outputs": [
    {
     "name": "stdout",
     "output_type": "stream",
     "text": [
      "['çay', 'peynir', 'zeytin', 'reçel']\n",
      "['çay', 'zeytin', 'reçel']\n",
      "['çay', 'zeytin']\n",
      "[]\n"
     ]
    }
   ],
   "source": [
    "# kahvaltı listesi\n",
    "kahvaltı_liste = [\"çay\", \"yumurta\", \"peynir\", \"zeytin\", \"reçel\"]\n",
    "\n",
    "# listenin bir kopyasını oluşturalım\n",
    "yeni_liste=list(kahvaltı_liste)\n",
    "\n",
    "# listeden çay ı çıkaralım\n",
    "yeni_liste.remove(\"yumurta\")\n",
    "print(yeni_liste)\n",
    "\n",
    "# listeden 2. elemanı çıkaralım\n",
    "yeni_liste.pop(1)\n",
    "print(yeni_liste)\n",
    "\n",
    "# listeden son elemanı çıkaralım\n",
    "yeni_liste.pop()\n",
    "print(yeni_liste)\n",
    "\n",
    "# listenin içini boşaltalım\n",
    "yeni_liste.clear()\n",
    "print(yeni_liste)\n",
    "\n",
    "# listeyi tamamen silelim\n",
    "del yeni_liste"
   ]
  },
  {
   "cell_type": "code",
   "execution_count": 51,
   "metadata": {},
   "outputs": [
    {
     "name": "stdout",
     "output_type": "stream",
     "text": [
      "['çay', 'yumurta', 'peynir', 'zeytin', 'reçel']\n",
      "['fasulye', 'domates', 'marul', 'soğan', 'patates']\n",
      "['çay', 'yumurta', 'peynir', 'zeytin', 'reçel', 'fasulye', 'domates', 'marul', 'soğan', 'patates']\n",
      "['çay', 'yumurta', 'peynir', 'zeytin', 'reçel', 'fasulye', 'domates', 'marul', 'soğan', 'patates']\n"
     ]
    }
   ],
   "source": [
    "# kahvaltı listesi\n",
    "kahvaltı_liste = [\"çay\", \"yumurta\", \"peynir\", \"zeytin\", \"reçel\"]\n",
    "print(kahvaltı_liste)\n",
    "\n",
    "# yeni bir liste oluşturalım: pazar listesi\n",
    "pazar_liste=list((\"fasulye\",\"domates\",\"marul\",\"soğan\",\"patates\"))\n",
    "print(pazar_liste)\n",
    "\n",
    "# iki listeyi birleştirelim\n",
    "alacaklar_1=kahvaltı_liste + pazar_liste\n",
    "print(alacaklar_1)\n",
    "\n",
    "# iki listeyi birleştirelim\n",
    "kahvaltı_liste.extend(pazar_liste)\n",
    "print(kahvaltı_liste)"
   ]
  },
  {
   "cell_type": "code",
   "execution_count": 54,
   "metadata": {},
   "outputs": [
    {
     "name": "stdout",
     "output_type": "stream",
     "text": [
      "['domates', 'fasulye', 'marul', 'patates', 'soğan']\n",
      "['soğan', 'patates', 'marul', 'fasulye', 'domates']\n"
     ]
    }
   ],
   "source": [
    "# pazar listesi\n",
    "pazar_liste=[\"fasulye\",\"domates\",\"marul\",\"soğan\",\"patates\"]\n",
    "\n",
    "# listedeki elemanları alfabetik sıralayalım\n",
    "pazar_liste.sort()\n",
    "print(pazar_liste)\n",
    "\n",
    "# Eldeki son listeyi tersten sıralayalım\n",
    "pazar_liste.reverse()\n",
    "print(pazar_liste)"
   ]
  },
  {
   "cell_type": "code",
   "execution_count": 55,
   "metadata": {},
   "outputs": [
    {
     "name": "stdout",
     "output_type": "stream",
     "text": [
      "('salatalık', 'domates', 'marul', 'soğan', 'patates')\n"
     ]
    }
   ],
   "source": [
    "# pazar tuple ı\n",
    "pazar_tuple=(\"fasulye\",\"domates\",\"marul\",\"soğan\",\"patates\")\n",
    "\n",
    "# listeye dönüştürelim\n",
    "pazar_liste= list(pazar_tuple)\n",
    "\n",
    "#listenin ilk elemanını değiştirelim\n",
    "pazar_liste[0] = \"salatalık\"\n",
    "\n",
    "# listeyi tuple a dönüştür\n",
    "pazar_tuple = tuple(pazar_liste)\n",
    "\n",
    "print(pazar_tuple)"
   ]
  },
  {
   "cell_type": "code",
   "execution_count": 57,
   "metadata": {},
   "outputs": [
    {
     "ename": "TypeError",
     "evalue": "'tuple' object does not support item assignment",
     "output_type": "error",
     "traceback": [
      "\u001b[1;31m---------------------------------------------------------------------------\u001b[0m",
      "\u001b[1;31mTypeError\u001b[0m                                 Traceback (most recent call last)",
      "\u001b[1;32m<ipython-input-57-6c8254d40bd6>\u001b[0m in \u001b[0;36m<module>\u001b[1;34m\u001b[0m\n\u001b[0;32m      3\u001b[0m \u001b[1;33m\u001b[0m\u001b[0m\n\u001b[0;32m      4\u001b[0m \u001b[1;31m# 2. elemanını değiştirelim\u001b[0m\u001b[1;33m\u001b[0m\u001b[1;33m\u001b[0m\u001b[1;33m\u001b[0m\u001b[0m\n\u001b[1;32m----> 5\u001b[1;33m \u001b[0mpazar_tuple\u001b[0m\u001b[1;33m[\u001b[0m\u001b[1;36m1\u001b[0m\u001b[1;33m]\u001b[0m\u001b[1;33m=\u001b[0m\u001b[1;34m\"salatalık\"\u001b[0m\u001b[1;33m\u001b[0m\u001b[1;33m\u001b[0m\u001b[0m\n\u001b[0m\u001b[0;32m      6\u001b[0m \u001b[1;33m\u001b[0m\u001b[0m\n\u001b[0;32m      7\u001b[0m \u001b[0mprint\u001b[0m\u001b[1;33m(\u001b[0m\u001b[0mpazar_tuple\u001b[0m\u001b[1;33m)\u001b[0m\u001b[1;33m\u001b[0m\u001b[1;33m\u001b[0m\u001b[0m\n",
      "\u001b[1;31mTypeError\u001b[0m: 'tuple' object does not support item assignment"
     ]
    }
   ],
   "source": [
    "# pazar tuple ı\n",
    "pazar_tuple=(\"fasulye\",\"domates\",\"marul\",\"soğan\",\"patates\")\n",
    "\n",
    "# 2. elemanını değiştirelim\n",
    "pazar_tuple[1]=\"salatalık\"\n",
    "\n",
    "print(pazar_tuple)"
   ]
  },
  {
   "cell_type": "code",
   "execution_count": 59,
   "metadata": {},
   "outputs": [
    {
     "name": "stdout",
     "output_type": "stream",
     "text": [
      "5\n",
      "fasulye\n",
      "domates\n",
      "marul\n",
      "soğan\n",
      "patates\n",
      "salatalık listede yok!\n"
     ]
    }
   ],
   "source": [
    "# pazar tuple ı\n",
    "pazar_tuple=(\"fasulye\",\"domates\",\"marul\",\"soğan\",\"patates\")\n",
    "\n",
    "# pazar tuple ı kaç elemandan oluşuyor\n",
    "print(len(pazar_tuple))\n",
    "\n",
    "# elemanları listeleyelim\n",
    "for x  in pazar_tuple:\n",
    "    print(x)\n",
    "    \n",
    "# salatalık listede var mı\n",
    "if \"salatalık\" in pazar_tuple:\n",
    "    print(\"salatalık listede var!\")\n",
    "else:\n",
    "    print(\"salatalık listede yok!\")\n",
    "    \n",
    "# tuple içindeki elemanlar silinmez anca tuple silinebilir\n",
    "del pazar_tuple"
   ]
  },
  {
   "cell_type": "markdown",
   "metadata": {},
   "source": []
  },
  {
   "cell_type": "code",
   "execution_count": 62,
   "metadata": {},
   "outputs": [
    {
     "name": "stdout",
     "output_type": "stream",
     "text": [
      "<class 'str'>\n",
      "<class 'tuple'>\n",
      "<class 'tuple'>\n"
     ]
    }
   ],
   "source": [
    "#tek elemanlı bir tuple ile oluşturalım\n",
    "ofis_liste=(\"kalem\")\n",
    "\n",
    "# değişkenin veri tipini sorgulayalım\n",
    "print(type(ofis_liste))\n",
    "\n",
    "# yapılması gereken\n",
    "ofis_liste=(\"kalem\",)\n",
    "\n",
    "# tekrar değişkenin veri tipini sorgulayalım\n",
    "print(type(ofis_liste))\n",
    "\n",
    "# farklı yöntemle tuple oluşturalım\n",
    "ofis_liste=tuple((\"kalem\"))\n",
    "\n",
    "# tekrar değişkenin veri tipini sorgulayalım\n",
    "print(type(ofis_liste))"
   ]
  },
  {
   "cell_type": "code",
   "execution_count": 63,
   "metadata": {},
   "outputs": [
    {
     "name": "stdout",
     "output_type": "stream",
     "text": [
      "3\n",
      "fotokopi kağıdı\n",
      "post-it\n",
      "kalem\n",
      "False\n"
     ]
    }
   ],
   "source": [
    "# bir set oluşturalım\n",
    "ofis_set={\"kalem\",\"fotokopi kağıdı\",\"post-it\"}\n",
    "\n",
    "# kaç parça var\n",
    "print(len(ofis_set))\n",
    "\n",
    "# hangi parçalar\n",
    "for x in ofis_set:\n",
    "    print(x)\n",
    "    \n",
    "# ataç var mı\n",
    "print(\"ataç\" in ofis_set)"
   ]
  },
  {
   "cell_type": "code",
   "execution_count": 64,
   "metadata": {},
   "outputs": [
    {
     "name": "stdout",
     "output_type": "stream",
     "text": [
      "{'fotokopi kağıdı', 'ataç', 'post-it', 'kalem'}\n",
      "{'post-it', 'fotokopi kağıdı', 'ataç', 'pil', 'kartuş', 'kalem'}\n",
      "{'post-it', 'fotokopi kağıdı', 'pil', 'kartuş', 'kalem'}\n",
      "{'fotokopi kağıdı', 'pil', 'kartuş', 'kalem'}\n"
     ]
    }
   ],
   "source": [
    "# ofis set i\n",
    "ofis_set={\"kalem\",\"fotokopi kağıdı\",\"post-it\"}\n",
    "\n",
    "# ofis setine ataç ekleyelim\n",
    "ofis_set.add(\"ataç\")\n",
    "print(ofis_set)\n",
    "\n",
    "# ofis setine pil ve kartuş ekleyelim\n",
    "#birden fazla öğe aynı anda eklenmeli\n",
    "ofis_set.update([\"pil\",\"kartuş\"])  #köşeli paranteze dikkat!\n",
    "print(ofis_set)\n",
    "\n",
    "# ofis setinden ataç ı kaldıralım\n",
    "ofis_set.remove(\"ataç\")  #ataç ı bulamazsa hata verir\n",
    "ofis_set.discard(\"silgi\") #silgiyi bulamazsa hata vermez\n",
    "print(ofis_set)\n",
    "\n",
    "# set in son elemanın silelim\n",
    "# dikkat set indexlenmediği için son eleman belli değil!\n",
    "ofis_set.pop()\n",
    "print(ofis_set)"
   ]
  },
  {
   "cell_type": "code",
   "execution_count": 67,
   "metadata": {},
   "outputs": [
    {
     "name": "stdout",
     "output_type": "stream",
     "text": [
      "{'Linux', 'Python', 'İletişim', 'SQL', 'R'}\n",
      "{'Linux', 'Python', 'İletişim', 'SQL', 'R'}\n"
     ]
    }
   ],
   "source": [
    "ders_set1 = {\"SQL\", \"Python\" , \"Linux\", \"R\"}\n",
    "ders_set2 = {\"R\", \"İletişim\"}\n",
    "\n",
    "# ders setlerini ders_set3 te birleştirelim\n",
    "ders_set3 = ders_set1.union(ders_set2)\n",
    "print(ders_set3)\n",
    "\n",
    "# update() ile birleştimenin mantığı biraz farklı\n",
    "# ama sonuç aynı\n",
    "ders_set1.update(ders_set2)\n",
    "print(ders_set1)\n"
   ]
  },
  {
   "cell_type": "code",
   "execution_count": 73,
   "metadata": {},
   "outputs": [
    {
     "name": "stdout",
     "output_type": "stream",
     "text": [
      "{'Ürün': 'Buğday', 'Tür': 'Tahıl', 'Yıl': 2019}\n",
      "Tahıl\n",
      "Tahıl\n",
      "2018\n"
     ]
    }
   ],
   "source": [
    "# uretim değişkenini dictionary olarak tanımlayalım\n",
    "uretim = {\n",
    "  \"Ürün\": \"Buğday\",\n",
    "  \"Tür\": \"Tahıl\",\n",
    "  \"Yıl\": 2019 }\n",
    "print(uretim)\n",
    "\n",
    "# uretim değişkeninin tür değeri nedir\n",
    "print(uretim.get(\"Tür\"))\n",
    "print(uretim[\"Tür\"])  #veya\n",
    "\n",
    "# Yıl in değerini 2018 olarak değiştirelim\n",
    "uretim[\"Yıl\"]=2018\n",
    "print(uretim.get(\"Yıl\"))"
   ]
  },
  {
   "cell_type": "code",
   "execution_count": 75,
   "metadata": {},
   "outputs": [
    {
     "name": "stdout",
     "output_type": "stream",
     "text": [
      "Ürün\n",
      "Tür\n",
      "Yıl\n",
      "Buğday\n",
      "Tahıl\n",
      "2019\n",
      "Buğday\n",
      "Tahıl\n",
      "2019\n",
      "Ürün Buğday\n",
      "Tür Tahıl\n",
      "Yıl 2019\n"
     ]
    }
   ],
   "source": [
    "uretim = {\"Ürün\": \"Buğday\", \"Tür\": \"Tahıl\", \"Yıl\": 2019 }\n",
    "\n",
    "# for döngüsünü kullanarak anahtar kelimelere ulaşalım \n",
    "for x in uretim:\n",
    "  print(x)\n",
    "\n",
    "# değerlere ulaşalım\n",
    "for x in uretim:\n",
    "  print(uretim[x])\n",
    "\n",
    "# değerlere ulaşalım - 2. yol\n",
    "for x in uretim.values():\n",
    "  print(x)\n",
    "\n",
    "# hem anahtarlara hem de değerlere ulaşalım\n",
    "for x,y in uretim.items():\n",
    "  print(x,y)"
   ]
  },
  {
   "cell_type": "code",
   "execution_count": 77,
   "metadata": {},
   "outputs": [
    {
     "name": "stdout",
     "output_type": "stream",
     "text": [
      "{'Ürün': 'Buğday', 'Tür': 'Tahıl', 'Yıl': 2019, 'Miktar': '50 ton'}\n",
      "{'Ürün': 'Buğday', 'Tür': 'Tahıl', 'Miktar': '50 ton'}\n",
      "{'Ürün': 'Buğday', 'Miktar': '50 ton'}\n",
      "{}\n"
     ]
    }
   ],
   "source": [
    "#uretim dictionary\n",
    "uretim = {\"Ürün\": \"Buğday\", \"Tür\": \"Tahıl\", \"Yıl\": 2019 }\n",
    "\n",
    "# yeni anahtar ve değer ekleyelim\n",
    "uretim[\"Miktar\"]=\"50 ton\"\n",
    "print(uretim)\n",
    "\n",
    "# yıl anahtarını kaldıralım\n",
    "uretim.pop(\"Yıl\")\n",
    "print(uretim)\n",
    "\n",
    "# tür anahtarını kaldıralım- 2.yol\n",
    "del uretim[\"Tür\"]\n",
    "print(uretim)\n",
    "\n",
    "# uretim içindeki verileri silelim\n",
    "uretim.clear()\n",
    "print(uretim)\n",
    "\n",
    "# üretim nesnesini silelim\n",
    "del uretim\n",
    "# buraya print(uretim) yazarsak hata verir çünkü sildik"
   ]
  },
  {
   "cell_type": "code",
   "execution_count": 78,
   "metadata": {},
   "outputs": [
    {
     "name": "stdout",
     "output_type": "stream",
     "text": [
      "{'Ürün': 'Buğday', 'Tür': 'Tahıl', 'Yıl': 2019}\n",
      "{'Ürün': 'Buğday', 'Tür': 'Tahıl', 'Yıl': 2019}\n",
      "{'sonbahar': 'Turuncu', 'kış': 'Beyaz', 'yaz': 'Mavi/Beyaz'}\n"
     ]
    }
   ],
   "source": [
    "#uretim dictionary\n",
    "uretim = {\"Ürün\": \"Buğday\", \"Tür\": \"Tahıl\", \"Yıl\": 2019}\n",
    "\n",
    "# uretim den uretim2 adında bir kopya oluşturalım\n",
    "uretim2=uretim.copy()\n",
    "print(uretim2)\n",
    "\n",
    "# uretim3 adında bir kopya daha oluşturalım - 2.yol\n",
    "uretim3=dict(uretim)\n",
    "print(uretim3)\n",
    "\n",
    "# dict() ile yeni bir dictionary oluşturulabilir\n",
    "mevsim_renk=dict(sonbahar=\"Turuncu\",kış=\"Beyaz\",yaz=\"Mavi/Beyaz\")\n",
    "print(mevsim_renk)"
   ]
  }
 ],
 "metadata": {
  "kernelspec": {
   "display_name": "Python 3",
   "language": "python",
   "name": "python3"
  },
  "language_info": {
   "codemirror_mode": {
    "name": "ipython",
    "version": 3
   },
   "file_extension": ".py",
   "mimetype": "text/x-python",
   "name": "python",
   "nbconvert_exporter": "python",
   "pygments_lexer": "ipython3",
   "version": "3.7.6"
  }
 },
 "nbformat": 4,
 "nbformat_minor": 4
}
