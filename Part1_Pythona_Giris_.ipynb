{
 "cells": [
  {
   "cell_type": "code",
   "execution_count": 1,
   "metadata": {},
   "outputs": [
    {
     "name": "stdout",
     "output_type": "stream",
     "text": [
      "Merhaba Python!\n"
     ]
    }
   ],
   "source": [
    "#bu bir yorum satırıdır\n",
    "print(\"Merhaba Python!\")"
   ]
  },
  {
   "cell_type": "code",
   "execution_count": 2,
   "metadata": {},
   "outputs": [
    {
     "name": "stdout",
     "output_type": "stream",
     "text": [
      "Merhaba Python!\n"
     ]
    }
   ],
   "source": [
    "#bu 1. yorum satırıdır\n",
    "#bu 2. yorum satırıdır\n",
    "#bu 3. yorum satırıdır\n",
    "print(\"Merhaba Python!\")"
   ]
  },
  {
   "cell_type": "code",
   "execution_count": null,
   "metadata": {},
   "outputs": [],
   "source": []
  },
  {
   "cell_type": "code",
   "execution_count": 4,
   "metadata": {},
   "outputs": [
    {
     "name": "stdout",
     "output_type": "stream",
     "text": [
      "Merhaba Python!\n"
     ]
    }
   ],
   "source": [
    "\"\"\"\n",
    "bu 1. yorum satırıdır\n",
    "bu 2. yorum satırıdır\n",
    "bu 3. yorum satırıdır\n",
    "\"\"\"\n",
    "print(\"Merhaba Python!\")"
   ]
  },
  {
   "cell_type": "code",
   "execution_count": 5,
   "metadata": {},
   "outputs": [
    {
     "name": "stdout",
     "output_type": "stream",
     "text": [
      "Sinop\n"
     ]
    }
   ],
   "source": [
    "x = 57 # x int tipinde tanımlandı\n",
    "x = \"Sinop\" # x şimdi string tipinde\n",
    "print(x) #bu durumda son aldığı değeri yazacaktır"
   ]
  },
  {
   "cell_type": "code",
   "execution_count": 6,
   "metadata": {},
   "outputs": [],
   "source": [
    "x = \"Atatürk\"\n",
    "# x değişkenine değer tanırken \n",
    "# aşağıdaki gibi de yazılabilir\n",
    "x = 'Atatürk'"
   ]
  },
  {
   "cell_type": "code",
   "execution_count": 7,
   "metadata": {},
   "outputs": [
    {
     "ename": "SyntaxError",
     "evalue": "invalid syntax (<ipython-input-7-a6d4aea1c06b>, line 11)",
     "output_type": "error",
     "traceback": [
      "\u001b[1;36m  File \u001b[1;32m\"<ipython-input-7-a6d4aea1c06b>\"\u001b[1;36m, line \u001b[1;32m11\u001b[0m\n\u001b[1;33m    2.ad = \"Kemal\"\u001b[0m\n\u001b[1;37m       ^\u001b[0m\n\u001b[1;31mSyntaxError\u001b[0m\u001b[1;31m:\u001b[0m invalid syntax\n"
     ]
    }
   ],
   "source": [
    "#Kurallara uygun değişken adları\n",
    "#Her biri farklı bir değişkendir\n",
    "adi = \"Mustafa Kemal\"\n",
    "ilk_adi = \"Mustafa\"\n",
    "_ilk_adi = \"Mustafa\"\n",
    "ilkAd = \"Mustafa\"\n",
    "ILKAD = \"Mustafa\"\n",
    "ad2 = \"Kemal\"\n",
    "\n",
    "#Kurallara uygun olmayan değişken adları\n",
    "2.ad = \"Kemal\"\n",
    "ilk-ad = \"Mustafa\"\n",
    "ilk adi = \"Mustafa\"\n",
    "ilkadı=\"Mustafa\""
   ]
  },
  {
   "cell_type": "code",
   "execution_count": 8,
   "metadata": {},
   "outputs": [
    {
     "name": "stdout",
     "output_type": "stream",
     "text": [
      "Mustafa\n",
      "Kemal\n",
      "Atatürk\n"
     ]
    }
   ],
   "source": [
    "x, y, z = \"Mustafa\", \"Kemal\", \"Atatürk\"\n",
    "print(x)\n",
    "print(y)\n",
    "print(z)"
   ]
  },
  {
   "cell_type": "code",
   "execution_count": 9,
   "metadata": {},
   "outputs": [
    {
     "name": "stdout",
     "output_type": "stream",
     "text": [
      "Mustafa Kemal Atatürk\n",
      "Mustafa Kemal Atatürk\n",
      "Mustafa Kemal Atatürk\n"
     ]
    }
   ],
   "source": [
    "x = y = z = \"Mustafa Kemal Atatürk\"\n",
    "print(x)\n",
    "print(y)\n",
    "print(z)x = \"awesome\"\n",
    "print(\"Python is \" + x)"
   ]
  },
  {
   "cell_type": "code",
   "execution_count": 10,
   "metadata": {},
   "outputs": [
    {
     "name": "stdout",
     "output_type": "stream",
     "text": [
      "Python öğrendiğim için çok mutluyum!\n"
     ]
    }
   ],
   "source": [
    "x = \"çok mutluyum!\"\n",
    "print(\"Python öğrendiğim için \" + x)"
   ]
  },
  {
   "cell_type": "code",
   "execution_count": 11,
   "metadata": {},
   "outputs": [
    {
     "name": "stdout",
     "output_type": "stream",
     "text": [
      "Python öğrendiğim için çok mutluyum!\n"
     ]
    }
   ],
   "source": [
    "x = \"Python öğrendiğim için \"\n",
    "y = \"çok mutluyum!\"\n",
    "z =  x + y\n",
    "print(z)"
   ]
  },
  {
   "cell_type": "code",
   "execution_count": 12,
   "metadata": {},
   "outputs": [
    {
     "name": "stdout",
     "output_type": "stream",
     "text": [
      "57\n"
     ]
    }
   ],
   "source": [
    "x = 50\n",
    "y = 7\n",
    "print(x + y)"
   ]
  },
  {
   "cell_type": "code",
   "execution_count": 13,
   "metadata": {},
   "outputs": [
    {
     "ename": "TypeError",
     "evalue": "unsupported operand type(s) for +: 'int' and 'str'",
     "output_type": "error",
     "traceback": [
      "\u001b[1;31m---------------------------------------------------------------------------\u001b[0m",
      "\u001b[1;31mTypeError\u001b[0m                                 Traceback (most recent call last)",
      "\u001b[1;32m<ipython-input-13-a75f366f0b24>\u001b[0m in \u001b[0;36m<module>\u001b[1;34m\u001b[0m\n\u001b[0;32m      1\u001b[0m \u001b[0mx\u001b[0m \u001b[1;33m=\u001b[0m \u001b[1;36m57\u001b[0m\u001b[1;33m\u001b[0m\u001b[1;33m\u001b[0m\u001b[0m\n\u001b[0;32m      2\u001b[0m \u001b[0my\u001b[0m \u001b[1;33m=\u001b[0m \u001b[1;34m\"Sinop\"\u001b[0m\u001b[1;33m\u001b[0m\u001b[1;33m\u001b[0m\u001b[0m\n\u001b[1;32m----> 3\u001b[1;33m \u001b[0mprint\u001b[0m\u001b[1;33m(\u001b[0m\u001b[0mx\u001b[0m \u001b[1;33m+\u001b[0m \u001b[0my\u001b[0m\u001b[1;33m)\u001b[0m\u001b[1;33m\u001b[0m\u001b[1;33m\u001b[0m\u001b[0m\n\u001b[0m",
      "\u001b[1;31mTypeError\u001b[0m: unsupported operand type(s) for +: 'int' and 'str'"
     ]
    }
   ],
   "source": [
    "x = 57\n",
    "y = \"Sinop\"\n",
    "print(x + y)"
   ]
  },
  {
   "cell_type": "code",
   "execution_count": 14,
   "metadata": {},
   "outputs": [
    {
     "name": "stdout",
     "output_type": "stream",
     "text": [
      "Python öğrenirken çok mutluyum!\n"
     ]
    }
   ],
   "source": [
    "x = \"çok mutluyum!\"\n",
    "\n",
    "def ilkFonksiyon(): #ilkFonksiyon adında bir fonk. tanımlandı\n",
    "  print(\"Python öğrenirken \" + x) #blog satırına dikkat!\n",
    "\n",
    "ilkFonksiyon() #fonksiyonu çalıştırmak için"
   ]
  },
  {
   "cell_type": "code",
   "execution_count": 17,
   "metadata": {},
   "outputs": [
    {
     "name": "stdout",
     "output_type": "stream",
     "text": [
      "Python öğrenirken çok mutluyum!\n",
      "Python öğrenirken biraz zorlanmaya başladım!\n",
      "Ama zor olan güzeldir!\n"
     ]
    }
   ],
   "source": [
    "x = \"biraz zorlanmaya başladım!\" # x global değişken\n",
    "\n",
    "def ilkFonksiyon():\n",
    "  x = \"çok mutluyum!\" #x yerel değişken\n",
    "  print(\"Python öğrenirken \" + x)\n",
    "\n",
    "ilkFonksiyon()\n",
    "\n",
    "print(\"Python öğrenirken \" + x) #x'in ilk değeri değişmedi\n",
    "\n",
    "print(\"Ama zor olan güzeldir!\")"
   ]
  },
  {
   "cell_type": "code",
   "execution_count": 25,
   "metadata": {},
   "outputs": [
    {
     "name": "stdout",
     "output_type": "stream",
     "text": [
      "Her doğru her yerde söylenir!\n"
     ]
    }
   ],
   "source": [
    "x = \"her yerde söylenir!\"\n",
    "def fonksiyon2():\n",
    "  #global x\n",
    "  x = \"her yerde söylenmez!\"\n",
    "\n",
    "fonksiyon2()\n",
    "\n",
    "print(\"Her doğru \" + x)"
   ]
  }
 ],
 "metadata": {
  "kernelspec": {
   "display_name": "Python 3",
   "language": "python",
   "name": "python3"
  },
  "language_info": {
   "codemirror_mode": {
    "name": "ipython",
    "version": 3
   },
   "file_extension": ".py",
   "mimetype": "text/x-python",
   "name": "python",
   "nbconvert_exporter": "python",
   "pygments_lexer": "ipython3",
   "version": "3.7.6"
  }
 },
 "nbformat": 4,
 "nbformat_minor": 4
}
