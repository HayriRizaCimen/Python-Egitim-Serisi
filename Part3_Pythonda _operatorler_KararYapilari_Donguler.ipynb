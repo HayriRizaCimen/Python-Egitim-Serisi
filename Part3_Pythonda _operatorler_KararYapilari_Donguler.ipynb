{
 "cells": [
  {
   "cell_type": "code",
   "execution_count": 4,
   "metadata": {},
   "outputs": [
    {
     "name": "stdout",
     "output_type": "stream",
     "text": [
      "19\n",
      "13\n",
      "48\n",
      "5.333333333333333\n",
      "1\n",
      "4096\n",
      "5\n"
     ]
    }
   ],
   "source": [
    "# aritmatiksel operatörler\n",
    "x = 16\n",
    "y = 3\n",
    "\n",
    "print(x + y)\n",
    "print(x - y)\n",
    "print(x * y)\n",
    "print(x / y)\n",
    "print(x % y) # 16 yı 3 e bölünce kalan\n",
    "print(x ** y) #16 üssü 3\n",
    "print(x // y) # bölüm değerini (5.33333) yuvarla"
   ]
  },
  {
   "cell_type": "code",
   "execution_count": 5,
   "metadata": {},
   "outputs": [
    {
     "name": "stdout",
     "output_type": "stream",
     "text": [
      "125\n"
     ]
    }
   ],
   "source": [
    "# x değişkenine 5 değerini ata\n",
    "x = 5\n",
    "\n",
    "# x'in 3. kuvvetini yine x değişkenine ata\n",
    "x **= 3 #veya x=x**3\n",
    "\n",
    "# xin son değerini yazdır\n",
    "print(x)"
   ]
  },
  {
   "cell_type": "code",
   "execution_count": 20,
   "metadata": {},
   "outputs": [
    {
     "name": "stdout",
     "output_type": "stream",
     "text": [
      "Öğrenci 49.04 geçme notu ile Başarısız!\n"
     ]
    }
   ],
   "source": [
    "# vizenin %40'ı finalin %60'ı geçme notunu belirliyor\n",
    "# geçme notu 50\n",
    "# ödev notu finali %10 etkiliyor\n",
    "# aşağıda vize sınavı, final sınavı, ödev notu var\n",
    "# bu notlarla öğrenci geçer mi?\n",
    "\n",
    "vize_s=50\n",
    "final_s=46\n",
    "ödev=70 \n",
    "\n",
    "gecme_notu=(vize_s*0.40)+(final_s*0.90+ödev*0.10)*0.60\n",
    "\n",
    "if gecme_notu >= 50:\n",
    "  sonuc=\"Öğrenci {:.2f} geçme notu ile Başarılı!\"\n",
    "else:\n",
    "  sonuc=\"Öğrenci {:.2f} geçme notu ile Başarısız!\"\n",
    "print(sonuc.format(gecme_notu))"
   ]
  },
  {
   "cell_type": "code",
   "execution_count": 21,
   "metadata": {},
   "outputs": [
    {
     "name": "stdout",
     "output_type": "stream",
     "text": [
      "Öğrenci dersten kaldı!\n"
     ]
    }
   ],
   "source": [
    "# geçme notu 50 nin altında\n",
    "# devamsızlığı olmayan öğrenci için\n",
    "# dersten geçme durumunu değerlendirelim \n",
    "\n",
    "gecme_notu=49.04\n",
    "devam_durumu=1\n",
    "\n",
    "if gecme_notu>=50 and devam_durumu==1:\n",
    "  print(\"Öğrenci dersten geçti!\")\n",
    "elif gecme_notu>=50 or devam_durumu==1:\n",
    "  print(\"Öğrenci dersten kaldı!\")"
   ]
  },
  {
   "cell_type": "code",
   "execution_count": 22,
   "metadata": {},
   "outputs": [
    {
     "name": "stdout",
     "output_type": "stream",
     "text": [
      "True\n",
      "True\n",
      "True\n"
     ]
    }
   ],
   "source": [
    "x = [\"elma\", \"armut\"]\n",
    "y = [\"elma\", \"armut\"]\n",
    "z = x\n",
    "\n",
    "print(x is z)\n",
    "# True, x ile z aynı nesne\n",
    "\n",
    "print(x is not y)\n",
    "# True, x ile y aynı nesne değil, sadece içerikleri aynı\n",
    "\n",
    "print(x == y)\n",
    "# True, x ile y birbirine eşittir"
   ]
  },
  {
   "cell_type": "code",
   "execution_count": 33,
   "metadata": {},
   "outputs": [
    {
     "name": "stdout",
     "output_type": "stream",
     "text": [
      "çilek yok\n",
      "kivi yok\n",
      "armut var\n"
     ]
    }
   ],
   "source": [
    "x = [\"elma\", \"armut\"]\n",
    "y = [\"çilek\"]\n",
    "z = [\"kivi\", \"armut\"]\n",
    "\n",
    "# x nesnesinin için çilek var mı\n",
    "if y[0] not in x:\n",
    "  print (y[0] + \" yok\")\n",
    "else:\n",
    "  print (y[0] + \" var\")\n",
    "\n",
    "# x nesnesinin için kivi var mı\n",
    "if z[0] in x:\n",
    "  print (z[0] + \" var\")\n",
    "else:\n",
    "  print (z[0] + \" yok\")\n",
    "\n",
    "# x nesnesinin için armut var mı\n",
    "if z[1] not in x:\n",
    "  print (z[1] + \" yok\")\n",
    "else:\n",
    "  print (z[1] + \" var\")"
   ]
  },
  {
   "cell_type": "code",
   "execution_count": 1,
   "metadata": {},
   "outputs": [
    {
     "name": "stdout",
     "output_type": "stream",
     "text": [
      "Kar oranı 0,25'ten büyüktür!\n"
     ]
    }
   ],
   "source": [
    "Kar_orani=0.50\n",
    "\n",
    "if Kar_orani>0.25:\n",
    "        print(\"Kar oranı 0,25'ten büyüktür!\")"
   ]
  },
  {
   "cell_type": "code",
   "execution_count": 9,
   "metadata": {},
   "outputs": [
    {
     "name": "stdout",
     "output_type": "stream",
     "text": [
      "Kar oranı 0,25'ten büyüktür!\n"
     ]
    }
   ],
   "source": [
    "Kar_orani=0.50\n",
    "\n",
    "if Kar_orani>0.25: print(\"Kar oranı 0,25'ten büyüktür!\")"
   ]
  },
  {
   "cell_type": "code",
   "execution_count": 6,
   "metadata": {},
   "outputs": [
    {
     "name": "stdout",
     "output_type": "stream",
     "text": [
      "Kar oranı 0,25'e eşittir!\n"
     ]
    }
   ],
   "source": [
    "Kar_orani=0.25\n",
    "\n",
    "if Kar_orani>0.25:\n",
    "    print(\"Kar oranı 0,25'ten büyüktür!\")\n",
    "elif Kar_orani==0.25:\n",
    "    print(\"Kar oranı 0,25'e eşittir!\")"
   ]
  },
  {
   "cell_type": "code",
   "execution_count": 7,
   "metadata": {},
   "outputs": [
    {
     "name": "stdout",
     "output_type": "stream",
     "text": [
      "Kar oranı 0,25'ten küçüktür!\n"
     ]
    }
   ],
   "source": [
    "Kar_orani=0.15\n",
    "\n",
    "if Kar_orani>0.25:\n",
    "    print(\"Kar oranı 0,25'ten büyüktür!\")\n",
    "elif Kar_orani==0.25:\n",
    "    print(\"Kar oranı 0,25'e eşittir!\")\n",
    "else:\n",
    "    print(\"Kar oranı 0,25'ten küçüktür!\")"
   ]
  },
  {
   "cell_type": "code",
   "execution_count": 8,
   "metadata": {},
   "outputs": [
    {
     "name": "stdout",
     "output_type": "stream",
     "text": [
      "Kar oranı 0,25'ten küçük!\n"
     ]
    }
   ],
   "source": [
    "Kar_orani=0.15\n",
    "\n",
    "if Kar_orani>=0.25:\n",
    "    print(\"Kar oranı 0,25'ten büyük veya eşit!\")\n",
    "else:\n",
    "    print(\"Kar oranı 0,25'ten küçük!\")"
   ]
  },
  {
   "cell_type": "code",
   "execution_count": 10,
   "metadata": {},
   "outputs": [
    {
     "name": "stdout",
     "output_type": "stream",
     "text": [
      "Hava durumu belirtilmemiş!\n"
     ]
    }
   ],
   "source": [
    "#sicaklik değişkenine 13 değerini atayalım\n",
    "sicaklik=13\n",
    "\n",
    "if sicaklik==18 or sicaklik==19:\n",
    "    print(\"Kısmen güneşli\")\n",
    "elif sicaklik==16 or sicaklik==17:\n",
    "    print(\"Bulutlu\")\n",
    "elif sicaklik==15:\n",
    "    print(\"Parçalı bulutlu\")\n",
    "elif sicaklik==14:\n",
    "    print(\"Yağmur geçişleri\")\n",
    "else:\n",
    "    print(\"Hava durumu belirtilmemiş!\")    "
   ]
  },
  {
   "cell_type": "code",
   "execution_count": 13,
   "metadata": {},
   "outputs": [
    {
     "name": "stdout",
     "output_type": "stream",
     "text": [
      "Kovid-19 şüphesi!\n"
     ]
    }
   ],
   "source": [
    "# hastalık teşhisi\n",
    "# 1:semptom var 0:semptom yok\n",
    "burun_akinti=0 \n",
    "hasirik=0\n",
    "hirilti=0\n",
    "goz_kizarik=0\n",
    "kasinti=0\n",
    "bas_bogaz_agri=0\n",
    "nefes_darligi=1\n",
    "ani_ates=1\n",
    "halsizlik=1\n",
    "kuru_oksuruk=1\n",
    "if burun_akinti==1 and hasirik==1 and hirilti==1 and goz_kizarik==1 and kasinti==1 and bas_bogaz_agri==1:\n",
    "    print(\"Nezle şüphesi!\")\n",
    "elif hasirik==1 and hirilti==1 and goz_kizarik==1 and kasinti==1 and kuru_oksuruk==1:\n",
    "    print(\"Alerji şüphesi!\")\n",
    "elif bas_bogaz_agri==1 and ani_ates==1 and halsizlik==1 and kuru_oksuruk==1:\n",
    "    print(\"Grip şüphesi!\")\n",
    "elif nefes_darligi==1 and ani_ates==1 and halsizlik==1 and kuru_oksuruk==1:\n",
    "    print(\"Kovid-19 şüphesi!\")\n",
    "else:\n",
    "    print(\"Nezle, alerji, grip veya kovid-19 değil!\")"
   ]
  },
  {
   "cell_type": "code",
   "execution_count": 14,
   "metadata": {},
   "outputs": [
    {
     "name": "stdout",
     "output_type": "stream",
     "text": [
      "1\n",
      "2\n",
      "3\n",
      "4\n",
      "5\n"
     ]
    }
   ],
   "source": [
    "# 1'den 5'e kadar sayıları ekrana yazdıralım\n",
    "i=1 # başlangıç değeri\n",
    "while i<=5:\n",
    "    print (i)\n",
    "    i+=1 # veya i=i+1"
   ]
  },
  {
   "cell_type": "code",
   "execution_count": 1,
   "metadata": {},
   "outputs": [
    {
     "name": "stdout",
     "output_type": "stream",
     "text": [
      "6\n",
      "8\n",
      "10\n",
      "12\n",
      "Hepsi bu kadar!\n"
     ]
    }
   ],
   "source": [
    "# 5 ile 12 arasında 2'ye bölünebilen sayıları bulalım\n",
    "i=5\n",
    "while i<=12:\n",
    "    if i%2==0: print (i)\n",
    "    i=i+1\n",
    "else:\n",
    "    print(\"Hepsi bu kadar!\")"
   ]
  },
  {
   "cell_type": "code",
   "execution_count": 2,
   "metadata": {},
   "outputs": [
    {
     "name": "stdout",
     "output_type": "stream",
     "text": [
      "6\n",
      "8\n",
      "10\n"
     ]
    }
   ],
   "source": [
    "# 5 ile 12 arasında 2'ye bölünebilen sayıları bulalım\n",
    "# ancak 10 değerini bulunca döngüden çıkalım\n",
    "i=5\n",
    "while i<=12:\n",
    "    if i%2==0: print (i)\n",
    "    if i==10: break\n",
    "    i=i+1"
   ]
  },
  {
   "cell_type": "code",
   "execution_count": 1,
   "metadata": {},
   "outputs": [
    {
     "name": "stdout",
     "output_type": "stream",
     "text": [
      "6\n",
      "8\n",
      "10\n",
      "12\n"
     ]
    }
   ],
   "source": [
    "# 5 ile 12 arasında 2'ye bölünebilen sayıları bulalım\n",
    "# ancak 10 değerini almayalım, yok sayalım\n",
    "i=5\n",
    "while i<=12:\n",
    "    if i%2==0: print (i)\n",
    "    i=i+1\n",
    "    if i==10: continue\n",
    "    "
   ]
  },
  {
   "cell_type": "code",
   "execution_count": 3,
   "metadata": {},
   "outputs": [
    {
     "name": "stdout",
     "output_type": "stream",
     "text": [
      "Sonbahar\n",
      "Kış\n",
      "İlkbahar\n",
      "Yaz\n"
     ]
    }
   ],
   "source": [
    "# bu bir list değişkeni\n",
    "mevsimler = [\"Sonbahar\", \"Kış\", \"İlkbahar\", \"Yaz\"]\n",
    "for x in mevsimler:\n",
    "  print(x)"
   ]
  },
  {
   "cell_type": "code",
   "execution_count": 4,
   "metadata": {},
   "outputs": [
    {
     "name": "stdout",
     "output_type": "stream",
     "text": [
      "S\n",
      "o\n",
      "n\n",
      "b\n",
      "a\n",
      "h\n",
      "a\n",
      "r\n"
     ]
    }
   ],
   "source": [
    "Mevsim=\"Sonbahar\"\n",
    "for x in Mevsim:\n",
    "  print(x)"
   ]
  },
  {
   "cell_type": "code",
   "execution_count": 10,
   "metadata": {},
   "outputs": [
    {
     "name": "stdout",
     "output_type": "stream",
     "text": [
      "S\n",
      "o\n",
      "n\n"
     ]
    }
   ],
   "source": [
    "Mevsim=\"Sonbahar\"\n",
    "for x in Mevsim:\n",
    "  print(x)\n",
    "  if x==\"n\": break"
   ]
  },
  {
   "cell_type": "code",
   "execution_count": 16,
   "metadata": {},
   "outputs": [
    {
     "name": "stdout",
     "output_type": "stream",
     "text": [
      "S\n",
      "n\n",
      "b\n",
      "h\n",
      "r\n"
     ]
    }
   ],
   "source": [
    "Mevsim=\"Sonbahar\"\n",
    "for x in Mevsim:\n",
    "    if x==\"o\" or x==\"a\" : continue\n",
    "    print(x)"
   ]
  },
  {
   "cell_type": "code",
   "execution_count": null,
   "metadata": {},
   "outputs": [],
   "source": []
  },
  {
   "cell_type": "code",
   "execution_count": null,
   "metadata": {},
   "outputs": [],
   "source": []
  },
  {
   "cell_type": "code",
   "execution_count": 12,
   "metadata": {},
   "outputs": [
    {
     "name": "stdout",
     "output_type": "stream",
     "text": [
      "0\n",
      "1\n",
      "2\n",
      "3\n",
      "4\n",
      "5\n"
     ]
    }
   ],
   "source": [
    "# for döngüsü ile 0'dan 5'e kadar yazdıralım\n",
    "for x in range(6):\n",
    "  print(x)"
   ]
  },
  {
   "cell_type": "code",
   "execution_count": 17,
   "metadata": {},
   "outputs": [
    {
     "name": "stdout",
     "output_type": "stream",
     "text": [
      "1\n",
      "2\n",
      "3\n",
      "4\n",
      "5\n"
     ]
    }
   ],
   "source": [
    "# for döngüsü ile 1'den 5'e kadar yazdıralım\n",
    "for x in range(1,6):\n",
    "  print(x)"
   ]
  },
  {
   "cell_type": "code",
   "execution_count": 28,
   "metadata": {},
   "outputs": [
    {
     "name": "stdout",
     "output_type": "stream",
     "text": [
      "1-15 arasındaki tek sayıların toplamı: 64\n"
     ]
    }
   ],
   "source": [
    "# for döngüsü ile 1'den 15'e kadar tek sayıları toplayalım\n",
    "\n",
    "#toplam değerini tutacak bir değişken tanımla\n",
    "toplam=0\n",
    "\n",
    "# 1'den 15' e kadar tek sayıları al ve bu değişkende topla\n",
    "for x in range(1,16,2):\n",
    "    toplam=toplam+x\n",
    "\n",
    "#döngüden çık ve toplam değerini yaz\n",
    "else:\n",
    "    sonuc=\"1-15 arasındaki tek sayıların toplamı: {}\"\n",
    "    print(sonuc.format(toplam))"
   ]
  },
  {
   "cell_type": "code",
   "execution_count": null,
   "metadata": {},
   "outputs": [],
   "source": []
  },
  {
   "cell_type": "code",
   "execution_count": 29,
   "metadata": {},
   "outputs": [
    {
     "name": "stdout",
     "output_type": "stream",
     "text": [
      "30\n",
      "60\n",
      "90\n",
      "50\n",
      "100\n",
      "150\n",
      "70\n",
      "140\n",
      "210\n"
     ]
    }
   ],
   "source": [
    "# iç içe for örneği\n",
    "x = [3,5,7]\n",
    "y = [10,20,30]\n",
    "\n",
    "# x in her bir değerini y deki değerlerle çarpalım\n",
    "for i in x:\n",
    "  for j in y:\n",
    "    print(i * j)"
   ]
  },
  {
   "cell_type": "code",
   "execution_count": 30,
   "metadata": {},
   "outputs": [],
   "source": [
    "# pass örnekleri\n",
    "for x in range(1,16,2):\n",
    "    pass\n",
    "\n",
    "if x>=60:\n",
    "    pass"
   ]
  }
 ],
 "metadata": {
  "kernelspec": {
   "display_name": "Python 3",
   "language": "python",
   "name": "python3"
  },
  "language_info": {
   "codemirror_mode": {
    "name": "ipython",
    "version": 3
   },
   "file_extension": ".py",
   "mimetype": "text/x-python",
   "name": "python",
   "nbconvert_exporter": "python",
   "pygments_lexer": "ipython3",
   "version": "3.7.6"
  }
 },
 "nbformat": 4,
 "nbformat_minor": 4
}
